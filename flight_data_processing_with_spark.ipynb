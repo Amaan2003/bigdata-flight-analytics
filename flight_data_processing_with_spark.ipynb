{
 "cells": [
  {
   "cell_type": "markdown",
   "id": "be7584be",
   "metadata": {},
   "source": [
    "### Importing Necessary Libraries for PySpark\n"
   ]
  },
  {
   "cell_type": "code",
   "execution_count": 1,
   "id": "62515e27",
   "metadata": {},
   "outputs": [],
   "source": [
    "from pyspark.sql import SparkSession\n",
    "from pyspark.sql import functions as F\n",
    "from pyspark.sql.functions import col, when"
   ]
  },
  {
   "cell_type": "markdown",
   "id": "f6c692c2",
   "metadata": {},
   "source": [
    "### Creating a SparkSession with Hive Support"
   ]
  },
  {
   "cell_type": "code",
   "execution_count": 2,
   "id": "0d080cf5",
   "metadata": {},
   "outputs": [],
   "source": [
    "spark = SparkSession.builder \\\n",
    "    .appName(\"FlightDataIngestionAndAnalysis\") \\\n",
    "    .enableHiveSupport() \\\n",
    "    .getOrCreate()"
   ]
  },
  {
   "cell_type": "markdown",
   "id": "4971f299",
   "metadata": {},
   "source": [
    "### Defining the Path to the CSV Data on HDFS"
   ]
  },
  {
   "cell_type": "code",
   "execution_count": 3,
   "id": "7f4e5ccd",
   "metadata": {},
   "outputs": [],
   "source": [
    "csv_path = \"hdfs:///user/talentum/flight_2018/\""
   ]
  },
  {
   "cell_type": "markdown",
   "id": "7555a58f",
   "metadata": {},
   "source": [
    "### Defining Columns to Drop for Data Cleaning\n"
   ]
  },
  {
   "cell_type": "code",
   "execution_count": 4,
   "id": "4f33262c",
   "metadata": {},
   "outputs": [
    {
     "name": "stdout",
     "output_type": "stream",
     "text": [
      "53\n"
     ]
    }
   ],
   "source": [
    "cols_to_drop = [\n",
    "    \"DivReachedDest\", \"DivActualElapsedTime\", \"DivArrDelay\", \"DivDistance\", \"Div1Airport\",\n",
    "    \"Div1AirportID\", \"Div1AirportSeqID\", \"Div1WheelsOn\", \"Div1TotalGTime\", \"Div1LongestGTime\",\n",
    "    \"Div1WheelsOff\", \"Div1TailNum\", \"Div2Airport\", \"Div2AirportID\", \"Div2AirportSeqID\", \"Div2WheelsOn\",\n",
    "    \"Div2TotalGTime\", \"Div2LongestGTime\", \"Div2WheelsOff\", \"Div2TailNum\", \"Div3Airport\", \"Div3AirportID\",\n",
    "    \"Div3AirportSeqID\", \"Div3WheelsOn\", \"Div3TotalGTime\", \"Div3LongestGTime\", \"Div3WheelsOff\", \"Div3TailNum\",\n",
    "    \"Div4Airport\", \"Div4AirportID\", \"Div4AirportSeqID\", \"Div4WheelsOn\", \"Div4TotalGTime\", \"Div4LongestGTime\",\n",
    "    \"Div4WheelsOff\", \"Div4TailNum\", \"Div5Airport\", \"Div5AirportID\", \"Div5AirportSeqID\", \"Div5WheelsOn\",\n",
    "    \"Div5TotalGTime\", \"Div5LongestGTime\", \"Div5WheelsOff\", \"Div5TailNum\", \"Duplicate\",\n",
    "    \"Originally_Scheduled_Code_Share_Airline\",\"DOT_ID_Originally_Scheduled_Code_Share_Airline\",\n",
    "    \"IATA_Code_Originally_Scheduled_Code_Share_Airline\",\"Flight_Num_Originally_Scheduled_Code_Share_Airline\",\n",
    "    \"_c119\",\"Tail_Number\",\"CancellationCode\",\"DivAirportLandings\"\n",
    "]\n",
    "print(len(cols_to_drop))"
   ]
  },
  {
   "cell_type": "markdown",
   "id": "9c575bb3",
   "metadata": {},
   "source": [
    "### Reading and Cleaning CSV Data by Dropping Unnecessary Columns"
   ]
  },
  {
   "cell_type": "code",
   "execution_count": 5,
   "id": "65b1a6e0",
   "metadata": {},
   "outputs": [],
   "source": [
    "df = spark.read.option(\"header\", \"true\").csv(csv_path+\"Flights_2018_*\").drop(*cols_to_drop)"
   ]
  },
  {
   "cell_type": "markdown",
   "id": "6dfb7bc1",
   "metadata": {},
   "source": [
    "### Checking the Number of Remaining Columns After Dropping\n"
   ]
  },
  {
   "cell_type": "code",
   "execution_count": 6,
   "id": "1a2d3be6",
   "metadata": {},
   "outputs": [
    {
     "name": "stdout",
     "output_type": "stream",
     "text": [
      "67\n"
     ]
    }
   ],
   "source": [
    "print(len(df.columns))"
   ]
  },
  {
   "cell_type": "markdown",
   "id": "02130438",
   "metadata": {},
   "source": [
    "### Displaying the Remaining Columns in the DataFrame\n"
   ]
  },
  {
   "cell_type": "code",
   "execution_count": 7,
   "id": "0c7da114",
   "metadata": {
    "scrolled": true
   },
   "outputs": [
    {
     "data": {
      "text/plain": [
       "['Year',\n",
       " 'Quarter',\n",
       " 'Month',\n",
       " 'DayofMonth',\n",
       " 'DayOfWeek',\n",
       " 'FlightDate',\n",
       " 'Marketing_Airline_Network',\n",
       " 'Operated_or_Branded_Code_Share_Partners',\n",
       " 'DOT_ID_Marketing_Airline',\n",
       " 'IATA_Code_Marketing_Airline',\n",
       " 'Flight_Number_Marketing_Airline',\n",
       " 'Operating_Airline ',\n",
       " 'DOT_ID_Operating_Airline',\n",
       " 'IATA_Code_Operating_Airline',\n",
       " 'Flight_Number_Operating_Airline',\n",
       " 'OriginAirportID',\n",
       " 'OriginAirportSeqID',\n",
       " 'OriginCityMarketID',\n",
       " 'Origin',\n",
       " 'OriginCityName',\n",
       " 'OriginState',\n",
       " 'OriginStateFips',\n",
       " 'OriginStateName',\n",
       " 'OriginWac',\n",
       " 'DestAirportID',\n",
       " 'DestAirportSeqID',\n",
       " 'DestCityMarketID',\n",
       " 'Dest',\n",
       " 'DestCityName',\n",
       " 'DestState',\n",
       " 'DestStateFips',\n",
       " 'DestStateName',\n",
       " 'DestWac',\n",
       " 'CRSDepTime',\n",
       " 'DepTime',\n",
       " 'DepDelay',\n",
       " 'DepDelayMinutes',\n",
       " 'DepDel15',\n",
       " 'DepartureDelayGroups',\n",
       " 'DepTimeBlk',\n",
       " 'TaxiOut',\n",
       " 'WheelsOff',\n",
       " 'WheelsOn',\n",
       " 'TaxiIn',\n",
       " 'CRSArrTime',\n",
       " 'ArrTime',\n",
       " 'ArrDelay',\n",
       " 'ArrDelayMinutes',\n",
       " 'ArrDel15',\n",
       " 'ArrivalDelayGroups',\n",
       " 'ArrTimeBlk',\n",
       " 'Cancelled',\n",
       " 'Diverted',\n",
       " 'CRSElapsedTime',\n",
       " 'ActualElapsedTime',\n",
       " 'AirTime',\n",
       " 'Flights',\n",
       " 'Distance',\n",
       " 'DistanceGroup',\n",
       " 'CarrierDelay',\n",
       " 'WeatherDelay',\n",
       " 'NASDelay',\n",
       " 'SecurityDelay',\n",
       " 'LateAircraftDelay',\n",
       " 'FirstDepTime',\n",
       " 'TotalAddGTime',\n",
       " 'LongestAddGTime']"
      ]
     },
     "execution_count": 7,
     "metadata": {},
     "output_type": "execute_result"
    }
   ],
   "source": [
    "df.columns"
   ]
  },
  {
   "cell_type": "markdown",
   "id": "a052f96f",
   "metadata": {},
   "source": [
    "### Printing the Schema of the DataFrame\n"
   ]
  },
  {
   "cell_type": "code",
   "execution_count": 8,
   "id": "e5a99194",
   "metadata": {
    "scrolled": true
   },
   "outputs": [
    {
     "name": "stdout",
     "output_type": "stream",
     "text": [
      "root\n",
      " |-- Year: string (nullable = true)\n",
      " |-- Quarter: string (nullable = true)\n",
      " |-- Month: string (nullable = true)\n",
      " |-- DayofMonth: string (nullable = true)\n",
      " |-- DayOfWeek: string (nullable = true)\n",
      " |-- FlightDate: string (nullable = true)\n",
      " |-- Marketing_Airline_Network: string (nullable = true)\n",
      " |-- Operated_or_Branded_Code_Share_Partners: string (nullable = true)\n",
      " |-- DOT_ID_Marketing_Airline: string (nullable = true)\n",
      " |-- IATA_Code_Marketing_Airline: string (nullable = true)\n",
      " |-- Flight_Number_Marketing_Airline: string (nullable = true)\n",
      " |-- Operating_Airline : string (nullable = true)\n",
      " |-- DOT_ID_Operating_Airline: string (nullable = true)\n",
      " |-- IATA_Code_Operating_Airline: string (nullable = true)\n",
      " |-- Flight_Number_Operating_Airline: string (nullable = true)\n",
      " |-- OriginAirportID: string (nullable = true)\n",
      " |-- OriginAirportSeqID: string (nullable = true)\n",
      " |-- OriginCityMarketID: string (nullable = true)\n",
      " |-- Origin: string (nullable = true)\n",
      " |-- OriginCityName: string (nullable = true)\n",
      " |-- OriginState: string (nullable = true)\n",
      " |-- OriginStateFips: string (nullable = true)\n",
      " |-- OriginStateName: string (nullable = true)\n",
      " |-- OriginWac: string (nullable = true)\n",
      " |-- DestAirportID: string (nullable = true)\n",
      " |-- DestAirportSeqID: string (nullable = true)\n",
      " |-- DestCityMarketID: string (nullable = true)\n",
      " |-- Dest: string (nullable = true)\n",
      " |-- DestCityName: string (nullable = true)\n",
      " |-- DestState: string (nullable = true)\n",
      " |-- DestStateFips: string (nullable = true)\n",
      " |-- DestStateName: string (nullable = true)\n",
      " |-- DestWac: string (nullable = true)\n",
      " |-- CRSDepTime: string (nullable = true)\n",
      " |-- DepTime: string (nullable = true)\n",
      " |-- DepDelay: string (nullable = true)\n",
      " |-- DepDelayMinutes: string (nullable = true)\n",
      " |-- DepDel15: string (nullable = true)\n",
      " |-- DepartureDelayGroups: string (nullable = true)\n",
      " |-- DepTimeBlk: string (nullable = true)\n",
      " |-- TaxiOut: string (nullable = true)\n",
      " |-- WheelsOff: string (nullable = true)\n",
      " |-- WheelsOn: string (nullable = true)\n",
      " |-- TaxiIn: string (nullable = true)\n",
      " |-- CRSArrTime: string (nullable = true)\n",
      " |-- ArrTime: string (nullable = true)\n",
      " |-- ArrDelay: string (nullable = true)\n",
      " |-- ArrDelayMinutes: string (nullable = true)\n",
      " |-- ArrDel15: string (nullable = true)\n",
      " |-- ArrivalDelayGroups: string (nullable = true)\n",
      " |-- ArrTimeBlk: string (nullable = true)\n",
      " |-- Cancelled: string (nullable = true)\n",
      " |-- Diverted: string (nullable = true)\n",
      " |-- CRSElapsedTime: string (nullable = true)\n",
      " |-- ActualElapsedTime: string (nullable = true)\n",
      " |-- AirTime: string (nullable = true)\n",
      " |-- Flights: string (nullable = true)\n",
      " |-- Distance: string (nullable = true)\n",
      " |-- DistanceGroup: string (nullable = true)\n",
      " |-- CarrierDelay: string (nullable = true)\n",
      " |-- WeatherDelay: string (nullable = true)\n",
      " |-- NASDelay: string (nullable = true)\n",
      " |-- SecurityDelay: string (nullable = true)\n",
      " |-- LateAircraftDelay: string (nullable = true)\n",
      " |-- FirstDepTime: string (nullable = true)\n",
      " |-- TotalAddGTime: string (nullable = true)\n",
      " |-- LongestAddGTime: string (nullable = true)\n",
      "\n"
     ]
    }
   ],
   "source": [
    "df.printSchema()"
   ]
  },
  {
   "cell_type": "markdown",
   "id": "7d089b52",
   "metadata": {},
   "source": [
    "### Counting Null Values for Each Column Individually\n"
   ]
  },
  {
   "cell_type": "code",
   "execution_count": 9,
   "id": "2bbbc257",
   "metadata": {},
   "outputs": [
    {
     "name": "stdout",
     "output_type": "stream",
     "text": [
      "Column: Year, Null count: 0\n",
      "Column: Quarter, Null count: 0\n",
      "Column: Month, Null count: 0\n",
      "Column: DayofMonth, Null count: 0\n",
      "Column: DayOfWeek, Null count: 0\n",
      "Column: FlightDate, Null count: 0\n",
      "Column: Marketing_Airline_Network, Null count: 0\n",
      "Column: Operated_or_Branded_Code_Share_Partners, Null count: 0\n",
      "Column: DOT_ID_Marketing_Airline, Null count: 0\n",
      "Column: IATA_Code_Marketing_Airline, Null count: 0\n",
      "Column: Flight_Number_Marketing_Airline, Null count: 0\n",
      "Column: Operating_Airline , Null count: 0\n",
      "Column: DOT_ID_Operating_Airline, Null count: 0\n",
      "Column: IATA_Code_Operating_Airline, Null count: 0\n",
      "Column: Flight_Number_Operating_Airline, Null count: 0\n",
      "Column: OriginAirportID, Null count: 0\n",
      "Column: OriginAirportSeqID, Null count: 0\n",
      "Column: OriginCityMarketID, Null count: 0\n",
      "Column: Origin, Null count: 0\n",
      "Column: OriginCityName, Null count: 0\n",
      "Column: OriginState, Null count: 0\n",
      "Column: OriginStateFips, Null count: 0\n",
      "Column: OriginStateName, Null count: 0\n",
      "Column: OriginWac, Null count: 0\n",
      "Column: DestAirportID, Null count: 0\n",
      "Column: DestAirportSeqID, Null count: 0\n",
      "Column: DestCityMarketID, Null count: 0\n",
      "Column: Dest, Null count: 0\n",
      "Column: DestCityName, Null count: 0\n",
      "Column: DestState, Null count: 0\n",
      "Column: DestStateFips, Null count: 0\n",
      "Column: DestStateName, Null count: 0\n",
      "Column: DestWac, Null count: 0\n",
      "Column: CRSDepTime, Null count: 0\n",
      "Column: DepTime, Null count: 85380\n",
      "Column: DepDelay, Null count: 86575\n",
      "Column: DepDelayMinutes, Null count: 86575\n",
      "Column: DepDel15, Null count: 86575\n",
      "Column: DepartureDelayGroups, Null count: 86575\n",
      "Column: DepTimeBlk, Null count: 0\n",
      "Column: TaxiOut, Null count: 94694\n",
      "Column: WheelsOff, Null count: 94684\n",
      "Column: WheelsOn, Null count: 97549\n",
      "Column: TaxiIn, Null count: 97559\n",
      "Column: CRSArrTime, Null count: 0\n",
      "Column: ArrTime, Null count: 90615\n",
      "Column: ArrDelay, Null count: 102893\n",
      "Column: ArrDelayMinutes, Null count: 102893\n",
      "Column: ArrDel15, Null count: 102893\n",
      "Column: ArrivalDelayGroups, Null count: 102893\n",
      "Column: ArrTimeBlk, Null count: 0\n",
      "Column: Cancelled, Null count: 0\n",
      "Column: Diverted, Null count: 0\n",
      "Column: CRSElapsedTime, Null count: 6\n",
      "Column: ActualElapsedTime, Null count: 102347\n",
      "Column: AirTime, Null count: 109271\n",
      "Column: Flights, Null count: 0\n",
      "Column: Distance, Null count: 0\n",
      "Column: DistanceGroup, Null count: 0\n",
      "Column: CarrierDelay, Null count: 4601170\n",
      "Column: WeatherDelay, Null count: 4601173\n",
      "Column: NASDelay, Null count: 4601173\n",
      "Column: SecurityDelay, Null count: 4601173\n",
      "Column: LateAircraftDelay, Null count: 4601173\n",
      "Column: FirstDepTime, Null count: 5653457\n",
      "Column: TotalAddGTime, Null count: 5653457\n",
      "Column: LongestAddGTime, Null count: 5653457\n"
     ]
    }
   ],
   "source": [
    "# Count nulls column-wise for each column individually\n",
    "for c in df.columns:\n",
    "    null_count = df.filter(col(c).isNull()).count()\n",
    "    print(f\"Column: {c}, Null count: {null_count}\")"
   ]
  },
  {
   "cell_type": "markdown",
   "id": "c4f38061",
   "metadata": {},
   "source": [
    "### Imputing Missing Values Using Mode and Mean for Selected Columns\n"
   ]
  },
  {
   "cell_type": "code",
   "execution_count": 10,
   "id": "723cc422",
   "metadata": {},
   "outputs": [],
   "source": [
    "# 1. Compute Mode using percentile_approx for certain columns\n",
    "mode_wheels_off = df.agg(F.expr(\"percentile_approx(WheelsOff, 0.5)\")).collect()[0][0]\n",
    "mode_wheels_on = df.agg(F.expr(\"percentile_approx(WheelsOn, 0.5)\")).collect()[0][0]\n",
    "mode_air_time = df.agg(F.expr(\"percentile_approx(AirTime, 0.5)\")).collect()[0][0]\n",
    "mode_actual_elapsed_time = df.agg(F.expr(\"percentile_approx(ActualElapsedTime, 0.5)\")).collect()[0][0]\n",
    "\n",
    "# 2. Compute Mean for TaxiOut and TaxiIn\n",
    "mean_taxi_out = df.agg(F.round(F.avg(\"TaxiOut\"), 0)).collect()[0][0]\n",
    "mean_taxi_in = df.agg(F.round(F.avg(\"TaxiIn\"), 0)).collect()[0][0]\n",
    "\n",
    "# 3. Fill missing values with mode and mean for selected columns\n",
    "df_filled = df.fillna({\n",
    "    \"WheelsOff\": mode_wheels_off, \n",
    "    \"WheelsOn\": mode_wheels_on, \n",
    "    \"AirTime\": mode_air_time,\n",
    "    \"ActualElapsedTime\": mode_actual_elapsed_time,\n",
    "    \"TaxiOut\": mean_taxi_out,\n",
    "    \"TaxiIn\": mean_taxi_in\n",
    "})\n",
    "\n",
    "# 4. List of columns to impute with 0 (and cast them to double if needed)\n",
    "columns_to_impute = [\"LongestAddGTime\", \"TotalAddGTime\", \"FirstDepTime\", \"LateAircraftDelay\",\n",
    "                     \"CarrierDelay\", \"WeatherDelay\", \"NASDelay\", \"SecurityDelay\", \"ArrDelay\", \"ArrDelayMinutes\",\n",
    "                     \"ArrDel15\", \"DepDelay\", \"DepDelayMinutes\", \"DepDel15\"]\n",
    "\n",
    "# Cast columns to double before filling them with 0\n",
    "\n",
    "\n",
    "for col_name in columns_to_impute:\n",
    "    df_filled = df_filled.withColumn(col_name, col(col_name).cast(\"double\"))\n",
    "\n",
    "# 5. Fill missing values in these columns with 0\n",
    "df_filled = df_filled.fillna(0, subset=columns_to_impute)\n",
    "\n",
    "# 6. Convert ArrivalDelayGroups and DepartureDelayGroups to double before filling with -1\n",
    "df_filled = df_filled.withColumn(\"ArrivalDelayGroups\", col(\"ArrivalDelayGroups\").cast(\"double\")) \\\n",
    "                     .withColumn(\"DepartureDelayGroups\", col(\"DepartureDelayGroups\").cast(\"double\"))\n",
    "\n",
    "# 7. Fill missing values in ArrivalDelayGroups and DepartureDelayGroups with -1\n",
    "df_filled = df_filled.fillna(-1, subset=[\"ArrivalDelayGroups\", \"DepartureDelayGroups\"])"
   ]
  },
  {
   "cell_type": "markdown",
   "id": "651211b7",
   "metadata": {},
   "source": [
    "### Filtering Out Cancelled Flights from the DataFrame\n"
   ]
  },
  {
   "cell_type": "code",
   "execution_count": 11,
   "id": "3ed8eb5d",
   "metadata": {},
   "outputs": [],
   "source": [
    "# Filter out rows where 'Cancelled' column is 1\n",
    "df_nc = df_filled.filter(df_filled.Cancelled != 1)"
   ]
  },
  {
   "cell_type": "markdown",
   "id": "ce2c5497",
   "metadata": {},
   "source": [
    "### Filling Missing Times and Creating TotalDelay Column\n"
   ]
  },
  {
   "cell_type": "code",
   "execution_count": 12,
   "id": "1662a7bb",
   "metadata": {},
   "outputs": [],
   "source": [
    "# Fill DepTime with CRSDepTime if null\n",
    "df_nc = df_nc.withColumn(\"DepTime\", when(col(\"DepTime\").isNull(), col(\"CRSDepTime\")).otherwise(col(\"DepTime\")))\n",
    "\n",
    "# Fill ArrTime with CRSArrTime if null\n",
    "df_nc = df_nc.withColumn(\"ArrTime\", when(col(\"ArrTime\").isNull(), col(\"CRSArrTime\")).otherwise(col(\"ArrTime\")))\n",
    "\n",
    "# Fill CRSElapsedTime with ActualElapsedTime if null\n",
    "df_nc = df_nc.withColumn(\"CRSElapsedTime\", when(col(\"CRSElapsedTime\").isNull(), col(\"ActualElapsedTime\")).otherwise(col(\"CRSElapsedTime\")))\n",
    "\n",
    "# Create the TotalDelay column as the sum of ArrDelay and DepDelay\n",
    "df_nc = df_nc.withColumn(\"TotalDelay\", col(\"ArrDelay\") + col(\"DepDelay\"))"
   ]
  },
  {
   "cell_type": "markdown",
   "id": "a2980f6c",
   "metadata": {},
   "source": [
    "### Re-checking Null Values After Imputation\n"
   ]
  },
  {
   "cell_type": "code",
   "execution_count": 13,
   "id": "1e26d2ab",
   "metadata": {
    "scrolled": true
   },
   "outputs": [
    {
     "name": "stdout",
     "output_type": "stream",
     "text": [
      "Column: Year, Null count: 0\n",
      "Column: Quarter, Null count: 0\n",
      "Column: Month, Null count: 0\n",
      "Column: DayofMonth, Null count: 0\n",
      "Column: DayOfWeek, Null count: 0\n",
      "Column: FlightDate, Null count: 0\n",
      "Column: Marketing_Airline_Network, Null count: 0\n",
      "Column: Operated_or_Branded_Code_Share_Partners, Null count: 0\n",
      "Column: DOT_ID_Marketing_Airline, Null count: 0\n",
      "Column: IATA_Code_Marketing_Airline, Null count: 0\n",
      "Column: Flight_Number_Marketing_Airline, Null count: 0\n",
      "Column: Operating_Airline , Null count: 0\n",
      "Column: DOT_ID_Operating_Airline, Null count: 0\n",
      "Column: IATA_Code_Operating_Airline, Null count: 0\n",
      "Column: Flight_Number_Operating_Airline, Null count: 0\n",
      "Column: OriginAirportID, Null count: 0\n",
      "Column: OriginAirportSeqID, Null count: 0\n",
      "Column: OriginCityMarketID, Null count: 0\n",
      "Column: Origin, Null count: 0\n",
      "Column: OriginCityName, Null count: 0\n",
      "Column: OriginState, Null count: 0\n",
      "Column: OriginStateFips, Null count: 0\n",
      "Column: OriginStateName, Null count: 0\n",
      "Column: OriginWac, Null count: 0\n",
      "Column: DestAirportID, Null count: 0\n",
      "Column: DestAirportSeqID, Null count: 0\n",
      "Column: DestCityMarketID, Null count: 0\n",
      "Column: Dest, Null count: 0\n",
      "Column: DestCityName, Null count: 0\n",
      "Column: DestState, Null count: 0\n",
      "Column: DestStateFips, Null count: 0\n",
      "Column: DestStateName, Null count: 0\n",
      "Column: DestWac, Null count: 0\n",
      "Column: CRSDepTime, Null count: 0\n",
      "Column: DepTime, Null count: 0\n",
      "Column: DepDelay, Null count: 0\n",
      "Column: DepDelayMinutes, Null count: 0\n",
      "Column: DepDel15, Null count: 0\n",
      "Column: DepartureDelayGroups, Null count: 0\n",
      "Column: DepTimeBlk, Null count: 0\n",
      "Column: TaxiOut, Null count: 0\n",
      "Column: WheelsOff, Null count: 0\n",
      "Column: WheelsOn, Null count: 0\n",
      "Column: TaxiIn, Null count: 0\n",
      "Column: CRSArrTime, Null count: 0\n",
      "Column: ArrTime, Null count: 0\n",
      "Column: ArrDelay, Null count: 0\n",
      "Column: ArrDelayMinutes, Null count: 0\n",
      "Column: ArrDel15, Null count: 0\n",
      "Column: ArrivalDelayGroups, Null count: 0\n",
      "Column: ArrTimeBlk, Null count: 0\n",
      "Column: Cancelled, Null count: 0\n",
      "Column: Diverted, Null count: 0\n",
      "Column: CRSElapsedTime, Null count: 0\n",
      "Column: ActualElapsedTime, Null count: 0\n",
      "Column: AirTime, Null count: 0\n",
      "Column: Flights, Null count: 0\n",
      "Column: Distance, Null count: 0\n",
      "Column: DistanceGroup, Null count: 0\n",
      "Column: CarrierDelay, Null count: 0\n",
      "Column: WeatherDelay, Null count: 0\n",
      "Column: NASDelay, Null count: 0\n",
      "Column: SecurityDelay, Null count: 0\n",
      "Column: LateAircraftDelay, Null count: 0\n",
      "Column: FirstDepTime, Null count: 0\n",
      "Column: TotalAddGTime, Null count: 0\n",
      "Column: LongestAddGTime, Null count: 0\n",
      "Column: TotalDelay, Null count: 0\n"
     ]
    }
   ],
   "source": [
    "# Count nulls column-wise for each column individually\n",
    "for c in df_nc.columns:\n",
    "    null_count = df_nc.filter(F.col(c).isNull()).count()\n",
    "    print(f\"Column: {c}, Null count: {null_count}\")"
   ]
  },
  {
   "cell_type": "markdown",
   "id": "dff0c516",
   "metadata": {},
   "source": [
    "### Counting the Number of Rows in the DataFrame\n"
   ]
  },
  {
   "cell_type": "code",
   "execution_count": 14,
   "id": "c123104b",
   "metadata": {},
   "outputs": [
    {
     "name": "stdout",
     "output_type": "stream",
     "text": [
      "Number of rows in the DataFrame: 5601139\n"
     ]
    }
   ],
   "source": [
    "# Count the number of rows in the DataFrame\n",
    "row_count = df_nc.count()\n",
    "\n",
    "# Print the number of rows\n",
    "print(f\"Number of rows in the DataFrame: {row_count}\")"
   ]
  },
  {
   "cell_type": "markdown",
   "id": "83c32b66",
   "metadata": {},
   "source": [
    "### Writing the DataFrame to Hive with Partitioning by Month\n"
   ]
  },
  {
   "cell_type": "code",
   "execution_count": 15,
   "id": "efc44cfe",
   "metadata": {},
   "outputs": [],
   "source": [
    "# Enable Hive support in Spark session\n",
    "spark.sql(\"CREATE DATABASE IF NOT EXISTS flight_db\")\n",
    "\n",
    "# Define the Hive table name\n",
    "hive_table = \"flight_db.flight_data_partitioned_month\"\n",
    "\n",
    "# Rename columns: Trim spaces and replace invalid characters\n",
    "df_nc = df_nc.select([col(c).alias(c.strip().replace(\" \", \"_\").replace(\"/\", \"_\")) for c in df_nc.columns])\n",
    "\n",
    "# Write the DataFrame into Hive with Partitioning (e.g., by Year and Month)\n",
    "df_nc.write.mode(\"overwrite\").partitionBy(\"Month\").saveAsTable(hive_table)\n"
   ]
  },
  {
   "cell_type": "markdown",
   "id": "6f771e6f",
   "metadata": {},
   "source": [
    "### Printing the Schema of the Partitioned Hive Table\n"
   ]
  },
  {
   "cell_type": "code",
   "execution_count": 16,
   "id": "7fcfa512",
   "metadata": {
    "scrolled": true
   },
   "outputs": [
    {
     "name": "stdout",
     "output_type": "stream",
     "text": [
      "root\n",
      " |-- Year: string (nullable = true)\n",
      " |-- Quarter: string (nullable = true)\n",
      " |-- Month: string (nullable = true)\n",
      " |-- DayofMonth: string (nullable = true)\n",
      " |-- DayOfWeek: string (nullable = true)\n",
      " |-- FlightDate: string (nullable = true)\n",
      " |-- Marketing_Airline_Network: string (nullable = true)\n",
      " |-- Operated_or_Branded_Code_Share_Partners: string (nullable = true)\n",
      " |-- DOT_ID_Marketing_Airline: string (nullable = true)\n",
      " |-- IATA_Code_Marketing_Airline: string (nullable = true)\n",
      " |-- Flight_Number_Marketing_Airline: string (nullable = true)\n",
      " |-- Operating_Airline: string (nullable = true)\n",
      " |-- DOT_ID_Operating_Airline: string (nullable = true)\n",
      " |-- IATA_Code_Operating_Airline: string (nullable = true)\n",
      " |-- Flight_Number_Operating_Airline: string (nullable = true)\n",
      " |-- OriginAirportID: string (nullable = true)\n",
      " |-- OriginAirportSeqID: string (nullable = true)\n",
      " |-- OriginCityMarketID: string (nullable = true)\n",
      " |-- Origin: string (nullable = true)\n",
      " |-- OriginCityName: string (nullable = true)\n",
      " |-- OriginState: string (nullable = true)\n",
      " |-- OriginStateFips: string (nullable = true)\n",
      " |-- OriginStateName: string (nullable = true)\n",
      " |-- OriginWac: string (nullable = true)\n",
      " |-- DestAirportID: string (nullable = true)\n",
      " |-- DestAirportSeqID: string (nullable = true)\n",
      " |-- DestCityMarketID: string (nullable = true)\n",
      " |-- Dest: string (nullable = true)\n",
      " |-- DestCityName: string (nullable = true)\n",
      " |-- DestState: string (nullable = true)\n",
      " |-- DestStateFips: string (nullable = true)\n",
      " |-- DestStateName: string (nullable = true)\n",
      " |-- DestWac: string (nullable = true)\n",
      " |-- CRSDepTime: string (nullable = true)\n",
      " |-- DepTime: string (nullable = true)\n",
      " |-- DepDelay: double (nullable = false)\n",
      " |-- DepDelayMinutes: double (nullable = false)\n",
      " |-- DepDel15: double (nullable = false)\n",
      " |-- DepartureDelayGroups: double (nullable = false)\n",
      " |-- DepTimeBlk: string (nullable = true)\n",
      " |-- TaxiOut: string (nullable = false)\n",
      " |-- WheelsOff: string (nullable = false)\n",
      " |-- WheelsOn: string (nullable = false)\n",
      " |-- TaxiIn: string (nullable = false)\n",
      " |-- CRSArrTime: string (nullable = true)\n",
      " |-- ArrTime: string (nullable = true)\n",
      " |-- ArrDelay: double (nullable = false)\n",
      " |-- ArrDelayMinutes: double (nullable = false)\n",
      " |-- ArrDel15: double (nullable = false)\n",
      " |-- ArrivalDelayGroups: double (nullable = false)\n",
      " |-- ArrTimeBlk: string (nullable = true)\n",
      " |-- Cancelled: string (nullable = true)\n",
      " |-- Diverted: string (nullable = true)\n",
      " |-- CRSElapsedTime: string (nullable = true)\n",
      " |-- ActualElapsedTime: string (nullable = false)\n",
      " |-- AirTime: string (nullable = false)\n",
      " |-- Flights: string (nullable = true)\n",
      " |-- Distance: string (nullable = true)\n",
      " |-- DistanceGroup: string (nullable = true)\n",
      " |-- CarrierDelay: double (nullable = false)\n",
      " |-- WeatherDelay: double (nullable = false)\n",
      " |-- NASDelay: double (nullable = false)\n",
      " |-- SecurityDelay: double (nullable = false)\n",
      " |-- LateAircraftDelay: double (nullable = false)\n",
      " |-- FirstDepTime: double (nullable = false)\n",
      " |-- TotalAddGTime: double (nullable = false)\n",
      " |-- LongestAddGTime: double (nullable = false)\n",
      " |-- TotalDelay: double (nullable = false)\n",
      "\n"
     ]
    }
   ],
   "source": [
    "df_nc.printSchema()"
   ]
  },
  {
   "cell_type": "markdown",
   "id": "0022d075",
   "metadata": {},
   "source": [
    "### Stopping the Spark Session\n"
   ]
  },
  {
   "cell_type": "code",
   "execution_count": null,
   "id": "19c889f2",
   "metadata": {},
   "outputs": [],
   "source": [
    "spark.stop()"
   ]
  }
 ],
 "metadata": {
  "kernelspec": {
   "display_name": "Python 3",
   "language": "python",
   "name": "python3"
  },
  "language_info": {
   "codemirror_mode": {
    "name": "ipython",
    "version": 3
   },
   "file_extension": ".py",
   "mimetype": "text/x-python",
   "name": "python",
   "nbconvert_exporter": "python",
   "pygments_lexer": "ipython3",
   "version": "3.6.9"
  }
 },
 "nbformat": 4,
 "nbformat_minor": 5
}
