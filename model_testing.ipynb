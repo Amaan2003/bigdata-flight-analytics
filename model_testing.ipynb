{
 "cells": [
  {
   "cell_type": "markdown",
   "id": "8e83fdd6",
   "metadata": {},
   "source": [
    "## Initializing SparkSession with Hive Support\n"
   ]
  },
  {
   "cell_type": "code",
   "execution_count": 1,
   "id": "04450daf",
   "metadata": {},
   "outputs": [],
   "source": [
    "from pyspark.sql import SparkSession\n",
    "\n",
    "spark = SparkSession.builder \\\n",
    "    .appName(\"Checking_Model\") \\\n",
    "    .enableHiveSupport() \\\n",
    "    .getOrCreate()"
   ]
  },
  {
   "cell_type": "markdown",
   "id": "a97de873",
   "metadata": {},
   "source": [
    "## Importing Required Libraries for Data Processing and Model Evaluation\n"
   ]
  },
  {
   "cell_type": "code",
   "execution_count": 2,
   "id": "fc18a1f3",
   "metadata": {},
   "outputs": [],
   "source": [
    "import pandas as pd\n",
    "import numpy as np\n",
    "import seaborn as sns\n",
    "import matplotlib.pyplot as plt\n",
    "from sklearn.model_selection import train_test_split, RandomizedSearchCV\n",
    "from sklearn.preprocessing import StandardScaler, OneHotEncoder\n",
    "from sklearn.linear_model import LogisticRegression\n",
    "from sklearn.metrics import accuracy_score, f1_score, recall_score, precision_score,confusion_matrix,classification_report\n",
    "from sklearn.compose import ColumnTransformer\n",
    "from sklearn.pipeline import Pipeline "
   ]
  },
  {
   "cell_type": "markdown",
   "id": "6e4df789",
   "metadata": {},
   "source": [
    "## Reading Data from Hive Table into a Spark DataFrame\n"
   ]
  },
  {
   "cell_type": "code",
   "execution_count": 3,
   "id": "d488e9c2",
   "metadata": {},
   "outputs": [],
   "source": [
    "#  Define the Hive table name\n",
    "hive_table = \"flight_db.flight_data_partitioned_month\"\n",
    "\n",
    "#  Read the Hive table into a Spark DataFrame\n",
    "df_spark = spark.sql(f\"SELECT * FROM {hive_table}\")"
   ]
  },
  {
   "cell_type": "markdown",
   "id": "8258a7ed",
   "metadata": {},
   "source": [
    "## Sampling 5% of Data for Each Month from the Hive Table\n"
   ]
  },
  {
   "cell_type": "code",
   "execution_count": 4,
   "id": "8221a93d",
   "metadata": {
    "scrolled": true
   },
   "outputs": [
    {
     "name": "stdout",
     "output_type": "stream",
     "text": [
      "[Row(Month='7'), Row(Month='11'), Row(Month='3'), Row(Month='8'), Row(Month='5'), Row(Month='6'), Row(Month='9'), Row(Month='1'), Row(Month='10'), Row(Month='4'), Row(Month='12'), Row(Month='2')]\n",
      "+----+-------+----------+---------+----------+-------------------------+---------------------------------------+------------------------+---------------------------+-------------------------------+-----------------+------------------------+---------------------------+-------------------------------+---------------+------------------+------------------+------+---------------+-----------+---------------+---------------+---------+-------------+----------------+----------------+----+---------------+---------+-------------+-------------+-------+----------+-------+--------+---------------+--------+--------------------+----------+-------+---------+--------+------+----------+-------+--------+---------------+--------+------------------+----------+---------+--------+--------------+-----------------+-------+-------+--------+-------------+------------+------------+--------+-------------+-----------------+------------+-------------+---------------+----------+-----+\n",
      "|Year|Quarter|DayofMonth|DayOfWeek|FlightDate|Marketing_Airline_Network|Operated_or_Branded_Code_Share_Partners|DOT_ID_Marketing_Airline|IATA_Code_Marketing_Airline|Flight_Number_Marketing_Airline|Operating_Airline|DOT_ID_Operating_Airline|IATA_Code_Operating_Airline|Flight_Number_Operating_Airline|OriginAirportID|OriginAirportSeqID|OriginCityMarketID|Origin| OriginCityName|OriginState|OriginStateFips|OriginStateName|OriginWac|DestAirportID|DestAirportSeqID|DestCityMarketID|Dest|   DestCityName|DestState|DestStateFips|DestStateName|DestWac|CRSDepTime|DepTime|DepDelay|DepDelayMinutes|DepDel15|DepartureDelayGroups|DepTimeBlk|TaxiOut|WheelsOff|WheelsOn|TaxiIn|CRSArrTime|ArrTime|ArrDelay|ArrDelayMinutes|ArrDel15|ArrivalDelayGroups|ArrTimeBlk|Cancelled|Diverted|CRSElapsedTime|ActualElapsedTime|AirTime|Flights|Distance|DistanceGroup|CarrierDelay|WeatherDelay|NASDelay|SecurityDelay|LateAircraftDelay|FirstDepTime|TotalAddGTime|LongestAddGTime|TotalDelay|Month|\n",
      "+----+-------+----------+---------+----------+-------------------------+---------------------------------------+------------------------+---------------------------+-------------------------------+-----------------+------------------------+---------------------------+-------------------------------+---------------+------------------+------------------+------+---------------+-----------+---------------+---------------+---------+-------------+----------------+----------------+----+---------------+---------+-------------+-------------+-------+----------+-------+--------+---------------+--------+--------------------+----------+-------+---------+--------+------+----------+-------+--------+---------------+--------+------------------+----------+---------+--------+--------------+-----------------+-------+-------+--------+-------------+------------+------------+--------+-------------+-----------------+------------+-------------+---------------+----------+-----+\n",
      "|2018|      3|         7|        6|2018-07-07|                       B6|                                     B6|                   20409|                         B6|                            401|               B6|                   20409|                         B6|                            401|          10721|           1072102|             30721|   BOS|     Boston, MA|         MA|             25|  Massachusetts|       13|        13495|         1349505|           33495| MSY|New Orleans, LA|       LA|           22|    Louisiana|     72|      0920|   0935|    15.0|           15.0|     1.0|                 1.0| 0900-0959|  29.00|     1004|    1206|  5.00|      1155|   1211|    16.0|           16.0|     1.0|               1.0| 1100-1159|     0.00|    0.00|        215.00|           216.00| 182.00|   1.00| 1368.00|            6|        15.0|         0.0|     1.0|          0.0|              0.0|         0.0|          0.0|            0.0|      31.0|    7|\n",
      "|2018|      3|        24|        2|2018-07-24|                       B6|                                     B6|                   20409|                         B6|                            401|               B6|                   20409|                         B6|                            401|          10721|           1072102|             30721|   BOS|     Boston, MA|         MA|             25|  Massachusetts|       13|        13495|         1349505|           33495| MSY|New Orleans, LA|       LA|           22|    Louisiana|     72|      0920|   0916|    -4.0|            0.0|     0.0|                -1.0| 0900-0959|  26.00|     0942|    1156| 10.00|      1155|   1206|    11.0|           11.0|     0.0|               0.0| 1100-1159|     0.00|    0.00|        215.00|           230.00| 194.00|   1.00| 1368.00|            6|         0.0|         0.0|     0.0|          0.0|              0.0|         0.0|          0.0|            0.0|       7.0|    7|\n",
      "|2018|      3|         1|        7|2018-07-01|                       B6|                                     B6|                   20409|                         B6|                            403|               B6|                   20409|                         B6|                            403|          12478|           1247805|             31703|   JFK|   New York, NY|         NY|             36|       New York|       22|        14843|         1484306|           34819| SJU|   San Juan, PR|       PR|           72|  Puerto Rico|      3|      1000|   0959|    -1.0|            0.0|     0.0|                -1.0| 1000-1059|  27.00|     1026|    1334|  3.00|      1357|   1337|   -20.0|            0.0|     0.0|              -2.0| 1300-1359|     0.00|    0.00|        237.00|           218.00| 188.00|   1.00| 1598.00|            7|         0.0|         0.0|     0.0|          0.0|              0.0|         0.0|          0.0|            0.0|     -21.0|    7|\n",
      "|2018|      3|        14|        6|2018-07-14|                       AS|                                     AS|                   19930|                         AS|                             39|               AS|                   19930|                         AS|                             39|          13487|           1348702|             31650|   MSP|Minneapolis, MN|         MN|             27|      Minnesota|       63|        14747|         1474703|           30559| SEA|    Seattle, WA|       WA|           53|   Washington|     93|      0645|   0634|   -11.0|            0.0|     0.0|                -1.0| 0600-0659|  23.00|     0657|    0815| 22.00|      0840|   0837|    -3.0|            0.0|     0.0|              -1.0| 0800-0859|     0.00|    0.00|        235.00|           243.00| 198.00|   1.00| 1399.00|            6|         0.0|         0.0|     0.0|          0.0|              0.0|         0.0|          0.0|            0.0|     -14.0|    7|\n",
      "|2018|      3|         7|        6|2018-07-07|                       B6|                                     B6|                   20409|                         B6|                            403|               B6|                   20409|                         B6|                            403|          12478|           1247805|             31703|   JFK|   New York, NY|         NY|             36|       New York|       22|        14843|         1484306|           34819| SJU|   San Juan, PR|       PR|           72|  Puerto Rico|      3|      1000|   1000|     0.0|            0.0|     0.0|                 0.0| 1000-1059|  31.00|     1031|    1354|  3.00|      1357|   1357|     0.0|            0.0|     0.0|               0.0| 1300-1359|     0.00|    0.00|        237.00|           237.00| 203.00|   1.00| 1598.00|            7|         0.0|         0.0|     0.0|          0.0|              0.0|         0.0|          0.0|            0.0|       0.0|    7|\n",
      "+----+-------+----------+---------+----------+-------------------------+---------------------------------------+------------------------+---------------------------+-------------------------------+-----------------+------------------------+---------------------------+-------------------------------+---------------+------------------+------------------+------+---------------+-----------+---------------+---------------+---------+-------------+----------------+----------------+----+---------------+---------+-------------+-------------+-------+----------+-------+--------+---------------+--------+--------------------+----------+-------+---------+--------+------+----------+-------+--------+---------------+--------+------------------+----------+---------+--------+--------------+-----------------+-------+-------+--------+-------------+------------+------------+--------+-------------+-----------------+------------+-------------+---------------+----------+-----+\n",
      "only showing top 5 rows\n",
      "\n"
     ]
    }
   ],
   "source": [
    "# Get the unique months available in the data\n",
    "months = df_spark.select(\"Month\").distinct().collect()\n",
    "print(months)\n",
    "# Sample 5% data for each month\n",
    "df_monthly_sampled = None\n",
    "\n",
    "for month in months:\n",
    "    month_data = df_spark.filter(df_spark.Month == month[\"Month\"]) \\\n",
    "                         .sample(withReplacement=False, fraction=0.05, seed=4321)\n",
    "    \n",
    "    # Union the monthly sampled data\n",
    "    if df_monthly_sampled is None:\n",
    "        df_monthly_sampled = month_data\n",
    "    else:\n",
    "        df_monthly_sampled = df_monthly_sampled.union(month_data)\n",
    "\n",
    "# Show the first 5 rows of the sampled data\n",
    "df_monthly_sampled.show(5)"
   ]
  },
  {
   "cell_type": "markdown",
   "id": "4c8b1cbe",
   "metadata": {},
   "source": [
    "## Converting Spark DataFrame to Pandas DataFrame\n"
   ]
  },
  {
   "cell_type": "code",
   "execution_count": 5,
   "id": "15ba6c6f",
   "metadata": {},
   "outputs": [],
   "source": [
    "df=df_monthly_sampled.toPandas()"
   ]
  },
  {
   "cell_type": "markdown",
   "id": "152d5950",
   "metadata": {},
   "source": [
    "## Selecting Relevant Features and Target Variable for Prediction\n"
   ]
  },
  {
   "cell_type": "code",
   "execution_count": 6,
   "id": "e424cbae",
   "metadata": {},
   "outputs": [],
   "source": [
    "# Select relevant features\n",
    "features = ['Month', 'DayOfWeek', 'DepTimeBlk', 'Origin', 'Dest', 'Distance', 'CarrierDelay', 'WeatherDelay', 'NASDelay', 'SecurityDelay', 'LateAircraftDelay','TaxiOut', 'TaxiIn']\n",
    "target = 'DepDel15'  # Binary classification (1 = delay >= 15 min, 0 = no delay)"
   ]
  },
  {
   "cell_type": "markdown",
   "id": "a65f11f5",
   "metadata": {},
   "source": [
    "## Separating Features and Target Variable for Model Training\n"
   ]
  },
  {
   "cell_type": "code",
   "execution_count": 7,
   "id": "6a2a90de",
   "metadata": {},
   "outputs": [],
   "source": [
    "# Separate features and target variable\n",
    "X = df[features]\n",
    "y = df[target].astype(int)  # Ensure binary classification"
   ]
  },
  {
   "cell_type": "markdown",
   "id": "2e481603",
   "metadata": {},
   "source": [
    "## Identifying Numerical and Categorical Features\n"
   ]
  },
  {
   "cell_type": "code",
   "execution_count": 8,
   "id": "8fbb3a21",
   "metadata": {},
   "outputs": [],
   "source": [
    "# Identify numerical and categorical features\n",
    "num_features = ['Distance', 'CarrierDelay', 'WeatherDelay', 'NASDelay', 'SecurityDelay', 'LateAircraftDelay','TaxiOut', 'TaxiIn']\n",
    "cat_features = ['Month', 'DayOfWeek', 'DepTimeBlk', 'Origin', 'Dest']"
   ]
  },
  {
   "cell_type": "markdown",
   "id": "6f32a74f",
   "metadata": {},
   "source": [
    "## Defining the Preprocessing Pipeline for Features\n"
   ]
  },
  {
   "cell_type": "code",
   "execution_count": 9,
   "id": "493db4ff",
   "metadata": {},
   "outputs": [],
   "source": [
    "# Preprocessing pipeline\n",
    "preprocessor = ColumnTransformer([\n",
    "    ('num', StandardScaler(), num_features),\n",
    "    ('cat', OneHotEncoder(handle_unknown='ignore'), cat_features)\n",
    "])"
   ]
  },
  {
   "cell_type": "markdown",
   "id": "bbfaf11a",
   "metadata": {},
   "source": [
    "## Creating the Machine Learning Pipeline\n"
   ]
  },
  {
   "cell_type": "code",
   "execution_count": 10,
   "id": "32d864ea",
   "metadata": {},
   "outputs": [],
   "source": [
    "# Create pipeline\n",
    "pipeline = Pipeline([\n",
    "    ('preprocessor', preprocessor),\n",
    "])"
   ]
  },
  {
   "cell_type": "markdown",
   "id": "6490199c",
   "metadata": {},
   "source": [
    "## Splitting the Dataset into Training and Testing Sets\n"
   ]
  },
  {
   "cell_type": "code",
   "execution_count": 11,
   "id": "531b2cde",
   "metadata": {},
   "outputs": [],
   "source": [
    "# Split dataset into training and testing sets\n",
    "X_train, X_test, y_train, y_test = train_test_split(X, y, test_size=0.3, random_state=24)"
   ]
  },
  {
   "cell_type": "markdown",
   "id": "887c3114",
   "metadata": {},
   "source": []
  },
  {
   "cell_type": "code",
   "execution_count": 18,
   "id": "f1fdfe44",
   "metadata": {},
   "outputs": [],
   "source": [
    "import pickle\n",
    "\n",
    "with open('logistic_rs_model.pkl','rb') as f:\n",
    "    loaded_Lr = pickle.load(f)"
   ]
  },
  {
   "cell_type": "markdown",
   "id": "5476b3d2",
   "metadata": {},
   "source": [
    "## Loading the Pre-trained Logistic Regression Model\n"
   ]
  },
  {
   "cell_type": "code",
   "execution_count": 20,
   "id": "a6ab357c",
   "metadata": {},
   "outputs": [],
   "source": [
    "y_pred_lr = loaded_Lr.predict(X_test)"
   ]
  },
  {
   "cell_type": "markdown",
   "id": "70577e28",
   "metadata": {},
   "source": [
    "## Evaluating the Logistic Regression Model's Performance\n"
   ]
  },
  {
   "cell_type": "code",
   "execution_count": 23,
   "id": "a6999a8e",
   "metadata": {},
   "outputs": [
    {
     "name": "stdout",
     "output_type": "stream",
     "text": [
      "Accuracy: 0.9449\n",
      "Precision: 0.8886\n",
      "Recall: 0.8063\n",
      "F1-score: 0.8455\n"
     ]
    }
   ],
   "source": [
    "# Model evaluation\n",
    "\n",
    "precision = precision_score(y_test, y_pred_lr)\n",
    "recall = recall_score(y_test, y_pred_lr)\n",
    "f1 = f1_score(y_test, y_pred_lr)\n",
    "accuracy = accuracy_score(y_test, y_pred_lr)\n",
    "\n",
    "print(f'Accuracy: {accuracy:.4f}')\n",
    "print(f\"Precision: {precision:.4f}\")\n",
    "print(f\"Recall: {recall:.4f}\")\n",
    "print(f\"F1-score: {f1:.4f}\")"
   ]
  },
  {
   "cell_type": "markdown",
   "id": "43804be5",
   "metadata": {},
   "source": [
    "## Loading the Pre-trained LGBM Model\n"
   ]
  },
  {
   "cell_type": "code",
   "execution_count": 26,
   "id": "ea7719e1",
   "metadata": {},
   "outputs": [],
   "source": [
    "import pickle\n",
    "\n",
    "with open('best_lgbm_model.pkl','rb') as f:\n",
    "    loaded_Lgbm = pickle.load(f)"
   ]
  },
  {
   "cell_type": "markdown",
   "id": "6bc7bed8",
   "metadata": {},
   "source": [
    "## Making Predictions with the Loaded LGBM Model\n"
   ]
  },
  {
   "cell_type": "code",
   "execution_count": 27,
   "id": "6cffcc08",
   "metadata": {},
   "outputs": [],
   "source": [
    "y_pred_lgbm = loaded_Lgbm.predict(X_test)"
   ]
  },
  {
   "cell_type": "markdown",
   "id": "022991ef",
   "metadata": {},
   "source": [
    "## Evaluating the LGBM Model's Performance\n"
   ]
  },
  {
   "cell_type": "code",
   "execution_count": 28,
   "id": "92b70403",
   "metadata": {},
   "outputs": [
    {
     "name": "stdout",
     "output_type": "stream",
     "text": [
      "Accuracy: 0.9587\n",
      "Precision: 0.9851\n",
      "Recall: 0.7912\n",
      "F1-score: 0.8775\n"
     ]
    }
   ],
   "source": [
    "# Model evaluation\n",
    "\n",
    "precision = precision_score(y_test, y_pred_lgbm)\n",
    "recall = recall_score(y_test, y_pred_lgbm)\n",
    "f1 = f1_score(y_test, y_pred_lgbm)\n",
    "accuracy = accuracy_score(y_test, y_pred_lgbm)\n",
    "\n",
    "print(f'Accuracy: {accuracy:.4f}')\n",
    "print(f\"Precision: {precision:.4f}\")\n",
    "print(f\"Recall: {recall:.4f}\")\n",
    "print(f\"F1-score: {f1:.4f}\")"
   ]
  },
  {
   "cell_type": "markdown",
   "id": "caa6ea6f",
   "metadata": {},
   "source": [
    "## Comparing Accuracy Between LGBM and Logistic Regression Models\n"
   ]
  },
  {
   "cell_type": "code",
   "execution_count": 30,
   "id": "38b06365",
   "metadata": {},
   "outputs": [
    {
     "data": {
      "image/png": "[encoded data removed]",
      "text/plain": [
       "<Figure size 576x432 with 1 Axes>"
      ]
     },
     "metadata": {
      "needs_background": "light"
     },
     "output_type": "display_data"
    }
   ],
   "source": [
    "import matplotlib.pyplot as plt\n",
    "from sklearn.metrics import accuracy_score, confusion_matrix, roc_curve, auc\n",
    "import seaborn as sns\n",
    "\n",
    "# Assuming `y_test` is your true labels\n",
    "\n",
    "# 1. Accuracy Comparison Bar Chart\n",
    "accuracy_lgbm = accuracy_score(y_test, y_pred_lgbm)\n",
    "accuracy_lr = accuracy_score(y_test, y_pred_lr)\n",
    "\n",
    "plt.figure(figsize=(8, 6))\n",
    "plt.bar(['LGBM', 'Logistic Regression'], [accuracy_lgbm, accuracy_lr], color=['blue', 'green'])\n",
    "plt.title('Accuracy Comparison between LGBM and Logistic Regression')\n",
    "plt.ylabel('Accuracy')\n",
    "plt.show()"
   ]
  },
  {
   "cell_type": "markdown",
   "id": "82f86c2a",
   "metadata": {},
   "source": [
    "## Plotting and Comparing Confusion Matrices for LGBM and Logistic Regression\n"
   ]
  },
  {
   "cell_type": "code",
   "execution_count": 31,
   "id": "abb4feff",
   "metadata": {},
   "outputs": [
    {
     "data": {
      "image/png": "[encoded data removed]",
      "text/plain": [
       "<Figure size 576x432 with 1 Axes>"
      ]
     },
     "metadata": {
      "needs_background": "light"
     },
     "output_type": "display_data"
    },
    {
     "data": {
      "image/png": "[encoded data removed]",
      "text/plain": [
       "<Figure size 576x432 with 1 Axes>"
      ]
     },
     "metadata": {
      "needs_background": "light"
     },
     "output_type": "display_data"
    }
   ],
   "source": [
    "#  Confusion Matrix for both models\n",
    "conf_matrix_lgbm = confusion_matrix(y_test, y_pred_lgbm)\n",
    "conf_matrix_lr = confusion_matrix(y_test, y_pred_lr)\n",
    "\n",
    "# Plotting confusion matrix for LGBM\n",
    "plt.figure(figsize=(8, 6))\n",
    "sns.heatmap(conf_matrix_lgbm, annot=True, fmt='d', cmap='Blues', cbar=False)\n",
    "plt.title('Confusion Matrix for LGBM')\n",
    "plt.xlabel('Predicted')\n",
    "plt.ylabel('True')\n",
    "plt.show()\n",
    "\n",
    "# Plotting confusion matrix for Logistic Regression\n",
    "plt.figure(figsize=(8, 6))\n",
    "sns.heatmap(conf_matrix_lr, annot=True, fmt='d', cmap='Greens', cbar=False)\n",
    "plt.title('Confusion Matrix for Logistic Regression')\n",
    "plt.xlabel('Predicted')\n",
    "plt.ylabel('True')\n",
    "plt.show()\n"
   ]
  },
  {
   "cell_type": "markdown",
   "id": "d4e5fbb4",
   "metadata": {},
   "source": [
    "## Comparing ROC Curves for LGBM and Logistic Regression Models\n"
   ]
  },
  {
   "cell_type": "code",
   "execution_count": 34,
   "id": "772e16d7",
   "metadata": {},
   "outputs": [
    {
     "data": {
      "image/png": "[encoded data removed]",
      "text/plain": [
       "<Figure size 576x432 with 1 Axes>"
      ]
     },
     "metadata": {
      "needs_background": "light"
     },
     "output_type": "display_data"
    }
   ],
   "source": [
    "# 3. ROC Curve Comparison\n",
    "fpr_lgbm, tpr_lgbm, _ = roc_curve(y_test, y_pred_lgbm)\n",
    "fpr_lr, tpr_lr, _ = roc_curve(y_test, y_pred_lr)\n",
    "\n",
    "roc_auc_lgbm = auc(fpr_lgbm, tpr_lgbm)\n",
    "roc_auc_lr = auc(fpr_lr, tpr_lr)\n",
    "\n",
    "plt.figure(figsize=(8, 6))\n",
    "plt.plot(fpr_lgbm, tpr_lgbm, color='blue', label=f'LGBM (AUC = {roc_auc_lgbm:.4f})')\n",
    "plt.plot(fpr_lr, tpr_lr, color='green', label=f'Logistic Regression (AUC = {roc_auc_lr:.4f})')\n",
    "plt.plot([0, 1], [0, 1], linestyle='--', color='gray')\n",
    "plt.title('ROC Curve Comparison')\n",
    "plt.xlabel('False Positive Rate')\n",
    "plt.ylabel('True Positive Rate')\n",
    "plt.legend(loc='lower right')\n",
    "plt.show()"
   ]
  },
  {
   "cell_type": "code",
   "execution_count": null,
   "id": "b1c847ed",
   "metadata": {},
   "outputs": [],
   "source": [
    "spark.stop()"
   ]
  }
 ],
 "metadata": {
  "kernelspec": {
   "display_name": "Python 3",
   "language": "python",
   "name": "python3"
  },
  "language_info": {
   "codemirror_mode": {
    "name": "ipython",
    "version": 3
   },
   "file_extension": ".py",
   "mimetype": "text/x-python",
   "name": "python",
   "nbconvert_exporter": "python",
   "pygments_lexer": "ipython3",
   "version": "3.6.9"
  }
 },
 "nbformat": 4,
 "nbformat_minor": 5
}
